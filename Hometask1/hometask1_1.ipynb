{
 "cells": [
  {
   "cell_type": "code",
   "execution_count": 4,
   "metadata": {},
   "outputs": [],
   "source": [
    "class Test:\n",
    "  @staticmethod\n",
    "  def assert_equals(a, b, *args, **kwargs):\n",
    "    assert a == b\n",
    "    print('Passed')"
   ]
  },
  {
   "cell_type": "raw",
   "metadata": {},
   "source": [
    "Problem https://edabit.com/challenge/xbjDMxzpFcsAWKp97 (5 points) "
   ]
  },
  {
   "cell_type": "code",
   "execution_count": 5,
   "metadata": {},
   "outputs": [],
   "source": [
    "def can_see_stage(a):\n",
    "  fl = True\n",
    "  if len(a[0]) == 1:\n",
    "    return fl\n",
    "  for i in range(len(a) - 1):\n",
    "    if fl:\n",
    "      for j in range(len(a[0])):\n",
    "        if a[i][j] < a[i + 1][j]:\n",
    "          fl = True\n",
    "        else:\n",
    "          fl = False\n",
    "          break\n",
    "    else:\n",
    "      break\n",
    "  return fl\n",
    "\n"
   ]
  },
  {
   "cell_type": "code",
   "execution_count": 6,
   "metadata": {},
   "outputs": [
    {
     "name": "stdout",
     "output_type": "stream",
     "text": [
      "Passed\n",
      "Passed\n",
      "Passed\n",
      "Passed\n",
      "Passed\n",
      "Passed\n",
      "Passed\n",
      "Passed\n",
      "Passed\n"
     ]
    }
   ],
   "source": [
    "Test.assert_equals(can_see_stage(\n",
    "[[1, 2, 3],\n",
    "[4, 5, 6],\n",
    "[7, 8, 9]]), True)\n",
    "\n",
    "Test.assert_equals(can_see_stage(\n",
    "[[1, 2, 2],\n",
    "[1, 2, 3],\n",
    "[4, 4, 4]]), False)\n",
    "\n",
    "Test.assert_equals(can_see_stage(\n",
    "[[1, 1, 2],\n",
    "[5, 2, 3],\n",
    "[4, 4, 4]]), False)\n",
    "\n",
    "Test.assert_equals(can_see_stage(\n",
    "[[1, 1, 2],\n",
    "[5, 2, 3],\n",
    "[6, 4, 4]]), True)\n",
    "\n",
    "Test.assert_equals(can_see_stage(\n",
    "[[0, 0, 0],\n",
    "[1, 1, 1],\n",
    "[2, 2, 2]]), True)\n",
    "\n",
    "Test.assert_equals(can_see_stage(\n",
    "[[2, 0, 0],\n",
    "[1, 1, 1],\n",
    "[2, 2, 2]]), False)\n",
    "\n",
    "Test.assert_equals(can_see_stage(\n",
    "[[1, 0, 0],\n",
    "[1, 1, 1],\n",
    "[2, 2, 2]]), False)\n",
    "\n",
    "Test.assert_equals(can_see_stage(\n",
    "[[1, 2, 3, 2, 1, 1],\n",
    "[2, 4, 4, 3, 2, 2],\n",
    "[5, 5, 5, 5, 4, 4],\n",
    "[6, 6, 7, 6, 5, 5]]), True)\n",
    "\n",
    "Test.assert_equals(can_see_stage(\n",
    "[[1, 2, 3, 2, 1, 1],\n",
    "[2, 4, 4, 3, 2, 2],\n",
    "[5, 5, 5, 10, 4, 4],\n",
    "[6, 6, 7, 6, 5, 5]]), False)"
   ]
  },
  {
   "cell_type": "code",
   "execution_count": null,
   "metadata": {},
   "outputs": [],
   "source": []
  }
 ],
 "metadata": {
  "kernelspec": {
   "display_name": "Python 3",
   "language": "python",
   "name": "python3"
  },
  "language_info": {
   "codemirror_mode": {
    "name": "ipython",
    "version": 3
   },
   "file_extension": ".py",
   "mimetype": "text/x-python",
   "name": "python",
   "nbconvert_exporter": "python",
   "pygments_lexer": "ipython3",
   "version": "3.8.3"
  }
 },
 "nbformat": 4,
 "nbformat_minor": 4
}
