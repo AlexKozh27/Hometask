{
 "cells": [
  {
   "cell_type": "code",
   "execution_count": 4,
   "metadata": {},
   "outputs": [],
   "source": [
    "class Test:\n",
    "  @staticmethod\n",
    "  def assert_equals(a, b, *args, **kwargs):\n",
    "    assert a == b\n",
    "    print('Passed')"
   ]
  },
  {
   "cell_type": "raw",
   "metadata": {},
   "source": [
    "Problem https://edabit.com/challenge/xbjDMxzpFcsAWKp97 (5 points) "
   ]
  },
  {
   "cell_type": "code",
   "execution_count": 5,
   "metadata": {},
   "outputs": [],
   "source": [
    "def can_see_stage(a):\n",
    "  fl = True\n",
    "  if len(a[0]) == 1:\n",
    "    return fl\n",
    "  for i in range(len(a) - 1):\n",
    "    if fl:\n",
    "      for j in range(len(a[0])):\n",
    "        if a[i][j] < a[i + 1][j]:\n",
    "          fl = True\n",
    "        else:\n",
    "          fl = False\n",
    "          break\n",
    "    else:\n",
    "      break\n",
    "  return fl\n",
    "\n"
   ]
  },
  {
   "cell_type": "code",
   "execution_count": 6,
   "metadata": {},
   "outputs": [
    {
     "name": "stdout",
     "output_type": "stream",
     "text": [
      "Passed\n",
      "Passed\n",
      "Passed\n",
      "Passed\n",
      "Passed\n",
      "Passed\n",
      "Passed\n",
      "Passed\n",
      "Passed\n"
     ]
    }
   ],
   "source": [
    "Test.assert_equals(can_see_stage(\n",
    "[[1, 2, 3],\n",
    "[4, 5, 6],\n",
    "[7, 8, 9]]), True)\n",
    "\n",
    "Test.assert_equals(can_see_stage(\n",
    "[[1, 2, 2],\n",
    "[1, 2, 3],\n",
    "[4, 4, 4]]), False)\n",
    "\n",
    "Test.assert_equals(can_see_stage(\n",
    "[[1, 1, 2],\n",
    "[5, 2, 3],\n",
    "[4, 4, 4]]), False)\n",
    "\n",
    "Test.assert_equals(can_see_stage(\n",
    "[[1, 1, 2],\n",
    "[5, 2, 3],\n",
    "[6, 4, 4]]), True)\n",
    "\n",
    "Test.assert_equals(can_see_stage(\n",
    "[[0, 0, 0],\n",
    "[1, 1, 1],\n",
    "[2, 2, 2]]), True)\n",
    "\n",
    "Test.assert_equals(can_see_stage(\n",
    "[[2, 0, 0],\n",
    "[1, 1, 1],\n",
    "[2, 2, 2]]), False)\n",
    "\n",
    "Test.assert_equals(can_see_stage(\n",
    "[[1, 0, 0],\n",
    "[1, 1, 1],\n",
    "[2, 2, 2]]), False)\n",
    "\n",
    "Test.assert_equals(can_see_stage(\n",
    "[[1, 2, 3, 2, 1, 1],\n",
    "[2, 4, 4, 3, 2, 2],\n",
    "[5, 5, 5, 5, 4, 4],\n",
    "[6, 6, 7, 6, 5, 5]]), True)\n",
    "\n",
    "Test.assert_equals(can_see_stage(\n",
    "[[1, 2, 3, 2, 1, 1],\n",
    "[2, 4, 4, 3, 2, 2],\n",
    "[5, 5, 5, 10, 4, 4],\n",
    "[6, 6, 7, 6, 5, 5]]), False)"
   ]
  },
  {
   "cell_type": "markdown",
   "metadata": {},
   "source": [
    "Problem https://edabit.com/challenge/358a5EyEyyiRXgy27 (1 point)"
   ]
  },
  {
   "cell_type": "code",
   "execution_count": 3,
   "metadata": {},
   "outputs": [],
   "source": [
    "def reverse(a):\n",
    "  for i in range((len(a) + 1) // 2):\n",
    "    a[i], a[len(a) - 1 -i] = a[len(a) - 1 -i], a[i]\n",
    "  return a"
   ]
  },
  {
   "cell_type": "code",
   "execution_count": 4,
   "metadata": {},
   "outputs": [
    {
     "name": "stdout",
     "output_type": "stream",
     "text": [
      "Passed\n",
      "Passed\n",
      "Passed\n"
     ]
    }
   ],
   "source": [
    "Test.assert_equals(reverse([1,2,3,4]), [4,3,2,1])\n",
    "Test.assert_equals(reverse([\"a\",5,3,2]), [2,3,5,\"a\"])\n",
    "Test.assert_equals(reverse([10,5,\"s\",\"w\"]), [\"w\",\"s\",5,10])"
   ]
  },
  {
   "cell_type": "markdown",
   "metadata": {},
   "source": [
    "Problem https://edabit.com/challenge/rZToTkR5eB9Zn4zLh (1 point)"
   ]
  },
  {
   "cell_type": "code",
   "execution_count": 5,
   "metadata": {},
   "outputs": [],
   "source": [
    "def addition(a, b):\n",
    "  return a + b"
   ]
  },
  {
   "cell_type": "code",
   "execution_count": 6,
   "metadata": {},
   "outputs": [
    {
     "name": "stdout",
     "output_type": "stream",
     "text": [
      "Passed\n",
      "Passed\n",
      "Passed\n"
     ]
    }
   ],
   "source": [
    "Test.assert_equals(addition(2,3), 5)\n",
    "Test.assert_equals(addition(-3,-6), -9)\n",
    "Test.assert_equals(addition(7,3), 10)"
   ]
  },
  {
   "cell_type": "markdown",
   "metadata": {},
   "source": [
    "Problem https://edabit.com/challenge/KjCS7occ9hfu5snpb (1 point)"
   ]
  },
  {
   "cell_type": "code",
   "execution_count": 7,
   "metadata": {},
   "outputs": [],
   "source": [
    "def addition(a):\n",
    "  return a + 1"
   ]
  },
  {
   "cell_type": "code",
   "execution_count": 8,
   "metadata": {},
   "outputs": [
    {
     "name": "stdout",
     "output_type": "stream",
     "text": [
      "Passed\n",
      "Passed\n",
      "Passed\n",
      "Passed\n",
      "Passed\n"
     ]
    }
   ],
   "source": [
    "Test.assert_equals(addition(2), 3, \"2 plus 1 equals 3.\")\n",
    "Test.assert_equals(addition(-9), -8, \"-8 plus 1 equals 9.\")\n",
    "Test.assert_equals(addition(0), 1, \"0 plus 1 equals 1.\")\n",
    "Test.assert_equals(addition(999), 1000, \"999 plus 1 equals 1000.\")\n",
    "Test.assert_equals(addition(73), 74, \"73 plus 1 equals 74.\")"
   ]
  },
  {
   "cell_type": "markdown",
   "metadata": {},
   "source": [
    "Problem https://edabit.com/challenge/FQyaaJx7orS7tiwz8 (1 point)"
   ]
  },
  {
   "cell_type": "code",
   "execution_count": 9,
   "metadata": {},
   "outputs": [],
   "source": [
    "def convert(a):\n",
    "  return a * 60"
   ]
  },
  {
   "cell_type": "code",
   "execution_count": 10,
   "metadata": {},
   "outputs": [
    {
     "name": "stdout",
     "output_type": "stream",
     "text": [
      "Passed\n",
      "Passed\n",
      "Passed\n",
      "Passed\n"
     ]
    }
   ],
   "source": [
    "Test.assert_equals(convert(6), 360)\n",
    "Test.assert_equals(convert(4), 240)\n",
    "Test.assert_equals(convert(8), 480)\n",
    "Test.assert_equals(convert(60), 3600)"
   ]
  },
  {
   "cell_type": "markdown",
   "metadata": {},
   "source": [
    "Problem https://edabit.com/challenge/aWLTzrRsrw7RakYrN (1 point)"
   ]
  },
  {
   "cell_type": "code",
   "execution_count": 11,
   "metadata": {},
   "outputs": [],
   "source": [
    "def tri_area(a, h):\n",
    "  return (a * h) / 2"
   ]
  },
  {
   "cell_type": "code",
   "execution_count": 12,
   "metadata": {},
   "outputs": [
    {
     "name": "stdout",
     "output_type": "stream",
     "text": [
      "Passed\n",
      "Passed\n",
      "Passed\n",
      "Passed\n",
      "Passed\n"
     ]
    }
   ],
   "source": [
    "Test.assert_equals(tri_area(3, 2), 3)\n",
    "Test.assert_equals(tri_area(5, 4), 10)\n",
    "Test.assert_equals(tri_area(10, 10), 50)\n",
    "Test.assert_equals(tri_area(0, 60), 0)\n",
    "Test.assert_equals(tri_area(12, 11), 66)"
   ]
  },
  {
   "cell_type": "markdown",
   "metadata": {},
   "source": [
    "Problem https://edabit.com/challenge/HYjQKDXFfeppcWmLX (2 points)"
   ]
  },
  {
   "cell_type": "code",
   "execution_count": 13,
   "metadata": {},
   "outputs": [],
   "source": [
    "def is_curzon(a):\n",
    "  m = 1 + 2 ** a\n",
    "  n = 1 + 2 * a\n",
    "  return m % n == 0"
   ]
  },
  {
   "cell_type": "code",
   "execution_count": 14,
   "metadata": {},
   "outputs": [
    {
     "name": "stdout",
     "output_type": "stream",
     "text": [
      "Passed\n",
      "Passed\n",
      "Passed\n",
      "Passed\n",
      "Passed\n",
      "Passed\n",
      "Passed\n",
      "Passed\n",
      "Passed\n"
     ]
    }
   ],
   "source": [
    "Test.assert_equals(is_curzon(5), True)\n",
    "Test.assert_equals(is_curzon(10), False)\n",
    "Test.assert_equals(is_curzon(14), True)\n",
    "Test.assert_equals(is_curzon(86), True)\n",
    "Test.assert_equals(is_curzon(90), True)\n",
    "Test.assert_equals(is_curzon(115), False)\n",
    "Test.assert_equals(is_curzon(120), False)\n",
    "Test.assert_equals(is_curzon(194), True)\n",
    "Test.assert_equals(is_curzon(293), True)"
   ]
  },
  {
   "cell_type": "markdown",
   "metadata": {},
   "source": [
    "Problem https://edabit.com/challenge/PNbsQzmDR3CJ9JHkB (3 points)"
   ]
  },
  {
   "cell_type": "code",
   "execution_count": 15,
   "metadata": {},
   "outputs": [],
   "source": [
    "def fact(n):\n",
    "  if n == 0:\n",
    "    return 1\n",
    "  else:\n",
    "    return n * fact(n - 1)"
   ]
  },
  {
   "cell_type": "code",
   "execution_count": 16,
   "metadata": {},
   "outputs": [
    {
     "name": "stdout",
     "output_type": "stream",
     "text": [
      "Passed\n",
      "Passed\n",
      "Passed\n",
      "Passed\n",
      "Passed\n",
      "Passed\n",
      "Passed\n"
     ]
    }
   ],
   "source": [
    "Test.assert_equals(fact(0), 1)\n",
    "Test.assert_equals(fact(1), 1)\n",
    "Test.assert_equals(fact(2), 2)\n",
    "Test.assert_equals(fact(3), 6)\n",
    "Test.assert_equals(fact(7), 5040)\n",
    "Test.assert_equals(fact(9), 362880)\n",
    "Test.assert_equals(fact(15), 1307674368000)"
   ]
  },
  {
   "cell_type": "code",
   "execution_count": null,
   "metadata": {},
   "outputs": [],
   "source": []
  }
 ],
 "metadata": {
  "kernelspec": {
   "display_name": "Python 3",
   "language": "python",
   "name": "python3"
  },
  "language_info": {
   "codemirror_mode": {
    "name": "ipython",
    "version": 3
   },
   "file_extension": ".py",
   "mimetype": "text/x-python",
   "name": "python",
   "nbconvert_exporter": "python",
   "pygments_lexer": "ipython3",
   "version": "3.8.3"
  }
 },
 "nbformat": 4,
 "nbformat_minor": 4
}
